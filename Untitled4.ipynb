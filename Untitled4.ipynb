{
  "nbformat": 4,
  "nbformat_minor": 0,
  "metadata": {
    "colab": {
      "provenance": [],
      "authorship_tag": "ABX9TyOtMICniWQm5xd4knowzjGU",
      "include_colab_link": true
    },
    "kernelspec": {
      "name": "python3",
      "display_name": "Python 3"
    },
    "language_info": {
      "name": "python"
    }
  },
  "cells": [
    {
      "cell_type": "markdown",
      "metadata": {
        "id": "view-in-github",
        "colab_type": "text"
      },
      "source": [
        "<a href=\"https://colab.research.google.com/github/ameliatoma10/Infrastruktur-big-data-11/blob/main/Untitled4.ipynb\" target=\"_parent\"><img src=\"https://colab.research.google.com/assets/colab-badge.svg\" alt=\"Open In Colab\"/></a>"
      ]
    },
    {
      "cell_type": "markdown",
      "source": [
        "Amelia toma_225410007"
      ],
      "metadata": {
        "id": "SdAdKOoolsKF"
      }
    },
    {
      "cell_type": "code",
      "execution_count": 1,
      "metadata": {
        "id": "gHu1BuwBldzh"
      },
      "outputs": [],
      "source": [
        "from pyspark.sql import SparkSession"
      ]
    },
    {
      "cell_type": "code",
      "source": [
        "from pyspark.sql import Row"
      ],
      "metadata": {
        "id": "4ZSE3mXQlnf2"
      },
      "execution_count": 2,
      "outputs": []
    },
    {
      "cell_type": "code",
      "source": [
        "spark = SparkSession.builder \\\n",
        "    .appName(\"Spark SQL Example\") \\\n",
        "    .getOrCreate()"
      ],
      "metadata": {
        "id": "nLwsr7Mqltm1"
      },
      "execution_count": 3,
      "outputs": []
    },
    {
      "cell_type": "code",
      "source": [
        "data = [\n",
        "    Row(id=1, name=\"Alice\", age=29),\n",
        "    Row(id=2, name=\"Bob\", age=31),\n",
        "    Row(id=3, name=\"Cathy\", age=22),\n",
        "    Row(id=4, name=\"David\", age=45),\n",
        "    Row(id=5, name=\"Eva\", age=35),\n",
        "    Row(id=6, name=\"Frank\", age=28),\n",
        "    Row(id=7, name=\"Grace\", age=32),\n",
        "    Row(id=8, name=\"Hank\", age=40),\n",
        "    Row(id=9, name=\"Ivy\", age=26),\n",
        "    Row(id=10, name=\"Jack\", age=38)\n",
        "]"
      ],
      "metadata": {
        "id": "hvCbRiHRlw73"
      },
      "execution_count": 4,
      "outputs": []
    },
    {
      "cell_type": "code",
      "source": [
        "df = spark.createDataFrame(data)"
      ],
      "metadata": {
        "id": "oPrplvNRl2MV"
      },
      "execution_count": 5,
      "outputs": []
    },
    {
      "cell_type": "code",
      "source": [
        "df.show()"
      ],
      "metadata": {
        "colab": {
          "base_uri": "https://localhost:8080/"
        },
        "id": "vn67Tu7rl52d",
        "outputId": "1c65d16e-9bf8-4c8b-b44c-cdcf998de9fd"
      },
      "execution_count": 6,
      "outputs": [
        {
          "output_type": "stream",
          "name": "stdout",
          "text": [
            "+---+-----+---+\n",
            "| id| name|age|\n",
            "+---+-----+---+\n",
            "|  1|Alice| 29|\n",
            "|  2|  Bob| 31|\n",
            "|  3|Cathy| 22|\n",
            "|  4|David| 45|\n",
            "|  5|  Eva| 35|\n",
            "|  6|Frank| 28|\n",
            "|  7|Grace| 32|\n",
            "|  8| Hank| 40|\n",
            "|  9|  Ivy| 26|\n",
            "| 10| Jack| 38|\n",
            "+---+-----+---+\n",
            "\n"
          ]
        }
      ]
    },
    {
      "cell_type": "code",
      "source": [
        "df.createOrReplaceTempView(\"people\")"
      ],
      "metadata": {
        "id": "UUx0VmFTl9fk"
      },
      "execution_count": 7,
      "outputs": []
    },
    {
      "cell_type": "code",
      "source": [
        "result = spark.sql(\"SELECT name, age FROM people WHERE age > 30\")"
      ],
      "metadata": {
        "id": "5K3aQxO2mAdc"
      },
      "execution_count": 8,
      "outputs": []
    },
    {
      "cell_type": "code",
      "source": [
        "result.show()"
      ],
      "metadata": {
        "colab": {
          "base_uri": "https://localhost:8080/"
        },
        "id": "TUZTRb4ZmDOd",
        "outputId": "d2173f0f-b0c3-46b6-8dcf-7e9799a51e33"
      },
      "execution_count": 9,
      "outputs": [
        {
          "output_type": "stream",
          "name": "stdout",
          "text": [
            "+-----+---+\n",
            "| name|age|\n",
            "+-----+---+\n",
            "|  Bob| 31|\n",
            "|David| 45|\n",
            "|  Eva| 35|\n",
            "|Grace| 32|\n",
            "| Hank| 40|\n",
            "| Jack| 38|\n",
            "+-----+---+\n",
            "\n"
          ]
        }
      ]
    },
    {
      "cell_type": "code",
      "source": [
        "spark.stop()"
      ],
      "metadata": {
        "id": "JJ7sU2CUmGU8"
      },
      "execution_count": 10,
      "outputs": []
    }
  ]
}